{
 "cells": [
  {
   "cell_type": "markdown",
   "metadata": {},
   "source": [
    "# Laboratorio 3 Base de Datos 2\n",
    "\n",
    "### Juan M. González-Campo 21077\n",
    "### Paulo R. Sánchez 21401\n",
    "### Pedro J. Marroquín 21801"
   ]
  },
  {
   "cell_type": "code",
   "execution_count": 26,
   "metadata": {},
   "outputs": [],
   "source": [
    "\n",
    "#Importacion de librerias\n",
    "from neo4j import GraphDatabase\n",
    "#Datos de conexión\n",
    "URI=\"neo4j+ssc://f955a66e.databases.neo4j.io\"\n",
    "AUTH=(\"neo4j\",\"9h4UWCWtkxjqM90NQrXDmDmF8O342uMJrrpRsyP58mU\")\n",
    "AURA_INSTANCEID=\"f955a66e\"\n",
    "AURA_INSTANCENAME=\"Instance01\"\n",
    "#Conexión"
   ]
  },
  {
   "cell_type": "markdown",
   "metadata": {},
   "source": [
    "## Prueba de Conexión"
   ]
  },
  {
   "cell_type": "code",
   "execution_count": 27,
   "metadata": {},
   "outputs": [
    {
     "name": "stdout",
     "output_type": "stream",
     "text": [
      "Connection successful\n"
     ]
    }
   ],
   "source": [
    "driver = GraphDatabase.driver(URI, auth=AUTH)\n",
    "\n",
    "# Test the connection with a simple query\n",
    "def test_connection(driver):\n",
    "    with driver.session() as session:\n",
    "        result = session.run(\"RETURN 'Connection successful' AS message\")\n",
    "        print(result.single()[\"message\"])\n",
    "\n",
    "\n",
    "test_connection(driver)\n"
   ]
  },
  {
   "cell_type": "markdown",
   "metadata": {},
   "source": [
    "# Ejercicio 1"
   ]
  },
  {
   "cell_type": "markdown",
   "metadata": {},
   "source": [
    "#### En el lenguaje de programación de su preferencia, implementar funciones para crear el grafo (la idea es que el grafo se cree a partir de funciones que reciban parámetros)\n"
   ]
  },
  {
   "cell_type": "code",
   "execution_count": 28,
   "metadata": {},
   "outputs": [],
   "source": [
    "# 1. En el lenguaje de programación de su preferencia, implementar funciones para crear el grafo (la idea es que el grafo se cree a partir de funciones que reciban parámetros)\n",
    "#Crea un usuario\n",
    "def create_user(driver,name,userId):\n",
    "    result=driver.execute_query(\n",
    "        \"\"\"\n",
    "        MERGE (u:User{name:$name, userId:$userId}) \n",
    "        RETURN u\n",
    "        \"\"\",\n",
    "        name=name,userId=userId,database=\"neo4j\"\n",
    "    )\n",
    "    print(f\"Usuario '{name}' (ID: {userId}) creado.\")\n",
    "    return result\n",
    "#Crea una pelicula\n",
    "def create_movie(driver,title,movieId,year,plot):\n",
    "    result=driver.execute_query(\n",
    "    \"\"\"\n",
    "    MERGE (m:Movie{title:$title, movieId:$movieId, year:$year, plot:$plot})\n",
    "    RETURN m\n",
    "    \"\"\",\n",
    "    title=title, movieId=movieId, year=year, plot=plot, database=\"neo4j\"\n",
    "    )\n",
    "    print(f\"Película '{title}' (ID: {movieId}) creada.\")\n",
    "    return result\n",
    "\n",
    "#Crea una conexión entre un usuario y una película\n",
    "def user_rates_movie(driver,userId,movieId,rating,timestamp):\n",
    "    if timestamp == None:\n",
    "        result=driver.execute_query(\n",
    "            \"\"\"\n",
    "            MATCH (u:User {userId:$userId})\n",
    "            MATCH (m:Movie {movieId:$movieId})\n",
    "            MERGE (u)-[r:RATED {rating:$rating, timestamp: timestamp()}]->(m)\n",
    "            RETURN u, r, m\n",
    "            \"\"\",\n",
    "            userId=userId, movieId=movieId, rating=rating, database=\"neo4j\"\n",
    "        )\n",
    "    else:\n",
    "        result=driver.execute_query(\n",
    "            \"\"\"\n",
    "            MATCH (u:User {userId:$userId})\n",
    "            MATCH (m:Movie {movieId:$movieId})\n",
    "            MERGE (u)-[r:RATED {rating:$rating, timestamp:$timestamp}]->(m)\n",
    "            RETURN u, r, m\n",
    "            \"\"\",\n",
    "            userId=userId, movieId=movieId, rating=rating, timestamp=timestamp, database=\"neo4j\"\n",
    "        )\n",
    "    print(f\"Usuario '{userId}' ha calificado la película '{movieId}' con {rating} estrellas.\")\n",
    "    return result"
   ]
  },
  {
   "cell_type": "markdown",
   "metadata": {},
   "source": [
    "#### 2. Popular el grafo con 5 registros (5 usuarios que tengan un rate hacia como mínimo dos películas distintas)."
   ]
  },
  {
   "cell_type": "code",
   "execution_count": 29,
   "metadata": {},
   "outputs": [
    {
     "name": "stdout",
     "output_type": "stream",
     "text": [
      "Película 'Inception' (ID: 101) creada.\n",
      "Película 'The Matrix' (ID: 102) creada.\n",
      "Usuario 'Alice' (ID: 1) creado.\n",
      "Usuario 'Bob' (ID: 2) creado.\n",
      "Usuario 'Charlie' (ID: 3) creado.\n",
      "Usuario 'David' (ID: 4) creado.\n",
      "Usuario 'Eve' (ID: 5) creado.\n",
      "Usuario '1' ha calificado la película '101' con 5 estrellas.\n",
      "Usuario '1' ha calificado la película '102' con 4 estrellas.\n",
      "Usuario '2' ha calificado la película '101' con 3 estrellas.\n",
      "Usuario '2' ha calificado la película '102' con 5 estrellas.\n",
      "Usuario '3' ha calificado la película '101' con 4 estrellas.\n",
      "Usuario '3' ha calificado la película '102' con 3 estrellas.\n",
      "Usuario '4' ha calificado la película '101' con 5 estrellas.\n",
      "Usuario '4' ha calificado la película '102' con 5 estrellas.\n",
      "Usuario '5' ha calificado la película '101' con 4 estrellas.\n",
      "Usuario '5' ha calificado la película '102' con 3 estrellas.\n"
     ]
    }
   ],
   "source": [
    "# 2. Popular el grafo con 5 registros (5 usuarios que tengan un rate hacia como mínimo dos películas distintas).\n",
    "# Datos de películas\n",
    "peliculas = [\n",
    "    {\"title\": \"Inception\", \"movieId\": 101, \"year\": 2010, \"plot\": \"A thief who steals corporate secrets through the use of dream-sharing technology.\"},\n",
    "    {\"title\": \"The Matrix\", \"movieId\": 102, \"year\": 1999, \"plot\": \"A computer hacker learns from mysterious rebels about the true nature of his reality.\"}\n",
    "]\n",
    "\n",
    "# Usuarios\n",
    "usuarios= [\n",
    "    {\"name\": \"Alice\", \"userId\": 1},\n",
    "    {\"name\": \"Bob\", \"userId\": 2},\n",
    "    {\"name\": \"Charlie\", \"userId\": 3},\n",
    "    {\"name\": \"David\", \"userId\": 4},\n",
    "    {\"name\": \"Eve\", \"userId\": 5}\n",
    "    \n",
    "]\n",
    "\n",
    "# Relaciones\n",
    "\n",
    "relaciones = [\n",
    "    {\"userId\": 1, \"movieId\": 101, \"rating\": 5, \"timestamp\": None},\n",
    "    {\"userId\": 1, \"movieId\": 102, \"rating\": 4, \"timestamp\": None},\n",
    "    {\"userId\": 2, \"movieId\": 101, \"rating\": 3, \"timestamp\": None},\n",
    "    {\"userId\": 2, \"movieId\": 102, \"rating\": 5, \"timestamp\": None},\n",
    "    {\"userId\": 3, \"movieId\": 101, \"rating\": 4, \"timestamp\": None},\n",
    "    {\"userId\": 3, \"movieId\": 102, \"rating\": 3, \"timestamp\": None},\n",
    "    {\"userId\": 4, \"movieId\": 101, \"rating\": 5, \"timestamp\": None},\n",
    "    {\"userId\": 4, \"movieId\": 102, \"rating\": 5, \"timestamp\": None},\n",
    "    {\"userId\": 5, \"movieId\": 101, \"rating\": 4, \"timestamp\": None},\n",
    "    {\"userId\": 5, \"movieId\": 102, \"rating\": 3, \"timestamp\": None}\n",
    "]\n",
    "\n",
    "for i in peliculas:\n",
    "    create_movie(driver, i[\"title\"], i[\"movieId\"], i[\"year\"], i[\"plot\"])\n",
    "\n",
    "for i in usuarios:\n",
    "    create_user(driver, i[\"name\"], i[\"userId\"])\n",
    "\n",
    "for i in relaciones:\n",
    "    user_rates_movie(driver, i[\"userId\"], i[\"movieId\"], i[\"rating\"], i[\"timestamp\"])\n"
   ]
  },
  {
   "cell_type": "code",
   "execution_count": 30,
   "metadata": {},
   "outputs": [],
   "source": [
    "\n",
    "# 3. Implementar función para encontrar un usuario, una película y un usuario con su relación rate a película\n",
    "#Encontrar usuario por Id\n",
    "def find_user_by_id(driver, userId):\n",
    "    result = driver.execute_query(\n",
    "        \"\"\"\n",
    "        MATCH (u:User {userId: $userId})\n",
    "        RETURN u\n",
    "        \"\"\",\n",
    "        userId=userId, database=\"neo4j\"\n",
    "    )\n",
    "    if result.records:\n",
    "        print(f\"Usuario encontrado: {result.records[0]['u']}\")\n",
    "    else:\n",
    "        print(f\"No se encontró ningún usuario con ID: {userId}\")\n",
    "    return result\n",
    "\n",
    "#Encontrar película por ID\n",
    "def find_movie_by_id(driver, movieId):\n",
    "    result = driver.execute_query(\n",
    "        \"\"\"\n",
    "        MATCH (m:Movie {movieId: $movieId})\n",
    "        RETURN m\n",
    "        \"\"\",\n",
    "        movieId=movieId, database=\"neo4j\"\n",
    "    )\n",
    "    if result.records:\n",
    "        print(f\"Película encontrada: {result.records[0]['m']}\")\n",
    "    else:\n",
    "        print(f\"No se encontró ninguna película con ID: {movieId}\")\n",
    "    return result\n",
    "\n",
    "\n",
    "#Encontrar la calificación de un usuario para una película\n",
    "def find_user_movie_rating(driver, userId, movieId):\n",
    "    result = driver.execute_query(\n",
    "        \"\"\"\n",
    "        MATCH (u:User {userId: $userId})-[r:RATED]->(m:Movie {movieId: $movieId})\n",
    "        RETURN u, r, m\n",
    "        \"\"\",\n",
    "        userId=userId, movieId=movieId, database=\"neo4j\"\n",
    "    )\n",
    "\n",
    "    # Verificar si hay resultados\n",
    "    if result.records:  \n",
    "        record = result.records[0]  \n",
    "        user = record[\"u\"]\n",
    "        movie = record[\"m\"]\n",
    "        rating = record[\"r\"]\n",
    "\n",
    "        return {\n",
    "            \"User\": {\"id\": user[\"userId\"], \"name\": user[\"name\"]},\n",
    "            \"Movie\": {\"id\": movie[\"movieId\"], \"title\": movie[\"title\"], \"year\": movie[\"year\"]},\n",
    "            \"Rating\": {\"rating\": rating[\"rating\"], \"timestamp\": rating[\"timestamp\"]}\n",
    "        }\n",
    "    else:\n",
    "        return f\"No se encontro un rating del usuario {userId} hacia la pelicula {movieId}.\""
   ]
  },
  {
   "cell_type": "code",
   "execution_count": 31,
   "metadata": {},
   "outputs": [
    {
     "name": "stdout",
     "output_type": "stream",
     "text": [
      "Usuario encontrado: <Node element_id='4:41c33069-6546-4412-a791-1b857f5a5a3d:6' labels=frozenset({'User'}) properties={'name': 'Alice', 'userId': 1}>\n",
      "Película encontrada: <Node element_id='4:41c33069-6546-4412-a791-1b857f5a5a3d:4' labels=frozenset({'Movie'}) properties={'year': 2010, 'plot': 'A thief who steals corporate secrets through the use of dream-sharing technology.', 'movieId': 101, 'title': 'Inception'}>\n",
      "{'User': {'id': 1, 'name': 'Alice'}, 'Movie': {'id': 101, 'title': 'Inception', 'year': 2010}, 'Rating': {'rating': 5, 'timestamp': 1739142943188}}\n"
     ]
    }
   ],
   "source": [
    "u = find_user_by_id(driver, 1)\n",
    "\n",
    "m = find_movie_by_id(driver, 101)\n",
    "\n",
    "umr = find_user_movie_rating(driver, 1, 101)\n",
    "print(umr)\n",
    "\n"
   ]
  },
  {
   "cell_type": "markdown",
   "metadata": {},
   "source": [
    "#### 4. Ahora, con las funciones previamente creadas, deberá generar el siguiente grafo. Es importante que tome en cuenta todas las propiedades de cada label y de aquellas relaciones que tengan alguna"
   ]
  },
  {
   "cell_type": "code",
   "execution_count": 32,
   "metadata": {},
   "outputs": [],
   "source": [
    "# Definimos nuevas funciones necesarias\n",
    "\n",
    "# Crear pelicula con más parámetros\n",
    "def create_movie_more_params(driver,title,tmdbId,released,imdbRating,movieId,year,imdbId,runtime,countries,imdbVotes,url,revenue,plot,poster,budget,languages):\n",
    "    driver.execute_query(\n",
    "        \"\"\"\n",
    "        MERGE (m:Movie{title:$title,tmdbId:$tmdbId,released:$released,imdbRating:$imdbRating,movieId:$movieId,year:$year,imdbId:$imdbId,runtime:$runtime,countries:$countries,imdbVotes:$imdbVotes,url:$url,revenue:$revenue,plot:$plot,poster:$poster,budget:$budget,languages:$languages})\n",
    "        RETURN m\n",
    "        \"\"\",\n",
    "        title=title, tmdbId=tmdbId, released=released, imdbRating=imdbRating, \n",
    "        movieId=movieId, year=year, imdbId=imdbId, runtime=runtime, countries=countries,\n",
    "        imdbVotes=imdbVotes, url=url, revenue=revenue, plot=plot, poster=poster, budget=budget, \n",
    "        languages=languages, database=\"neo4j\"\n",
    "\n",
    "    )\n",
    "    print(f\"Película '{title}' (ID: {movieId}) creada.\")\n",
    "\n",
    "# Crear personas que pueden tener subtipos\n",
    "def create_person(driver, subtype, name, tmdbId, born, died, bornIn, url, imdbId, bio, poster):\n",
    "    if subtype == 'Actor':\n",
    "        driver.execute_query(\n",
    "            \"\"\"\n",
    "            MERGE (p:Person:Actor {name:$name,tmdbId:$tmdbId,born:$born,died:$died,bornIn:$bornIn,url:$url,imdbId:$imdbId,bio:$bio,poster:$poster})\n",
    "            RETURN p\n",
    "            \"\"\",\n",
    "            name=name, tmdbId=tmdbId, born=born, died=died, bornIn=bornIn, url=url, imdbId=imdbId, bio=bio, poster=poster, database=\"neo4j\"\n",
    "        )\n",
    "    elif subtype == 'Director':\n",
    "         driver.execute_query(\n",
    "            \"\"\"\n",
    "            MERGE (p:Person:Director {name:$name, tmdbId:$tmdbId, born:$born,died:$died,bornIn:$bornIn,url:$url,imdbId:$imdbId,bio:$bio,poster:$poster})\n",
    "            RETURN p\n",
    "            \"\"\",\n",
    "            name=name, tmdbId=tmdbId, born=born, died=died, bornIn=bornIn, url=url, imdbId=imdbId, bio=bio, poster=poster, database=\"neo4j\"\n",
    "        )\n",
    "    elif subtype == 'Actor:Director':\n",
    "        driver.execute_query(\n",
    "            \"\"\"\n",
    "            MERGE (p:Person:Actor:Director {name:$name,tmdbId:$tmdbId,born:$born,died:$died,bornIn:$bornIn,url:$url,imdbId:$imdbId,bio:$bio,poster:$poster})\n",
    "            RETURN p\n",
    "            \"\"\",\n",
    "            name=name, tmdbId=tmdbId, born=born, died=died, bornIn=bornIn, url=url, imdbId=imdbId, bio=bio, poster=poster, database=\"neo4j\"\n",
    "        )\n",
    "    else:\n",
    "        driver.execute_query(\n",
    "            \"\"\"\n",
    "            MERGE (p:Person {name:$name,tmdbId:$tmdbId,born:$born,died:$died,bornIn:$bornIn,url:$url,imdbId:$imdbId,bio:$bio,poster:$poster})\n",
    "            RETURN p\n",
    "            \"\"\",\n",
    "            name=name, tmdbId=tmdbId, born=born, died=died, bornIn=bornIn, url=url, imdbId=imdbId, bio=bio, poster=poster, database=\"neo4j\"\n",
    "        )\n",
    "    print(f\"Persona '{name}' creada.\")\n",
    "\n",
    "# Crear género\n",
    "def create_genre(driver, name):\n",
    "    driver.execute_query(\n",
    "        \"\"\"\n",
    "        MERGE (g:Genre{name:$name})\n",
    "        RETURN g\n",
    "        \"\"\",\n",
    "        name=name, database=\"neo4j\"\n",
    "    )\n",
    "    print(f\"Género '{name}' creado.\")\n",
    "\n",
    "# Crear relación entre Director y película\n",
    "def link_director(driver, personName, movieTitle):\n",
    "    driver.execute_query(\n",
    "        \"\"\"\n",
    "        MATCH (p:Person {name:$personName})\n",
    "        MATCH (m:Movie {title:$movieTitle})\n",
    "        MERGE (p)-[:DIRECTED]->(m)\n",
    "        RETURN p,m\n",
    "        \"\"\",\n",
    "        personName=personName, movieTitle=movieTitle, database=\"neo4j\"\n",
    "    )\n",
    "    print(f\"Relación creada entre '{personName}' y '{movieTitle}'.\")\n",
    "\n",
    "#Crear relación entre Actor y película\n",
    "def link_actor(driver, personName, movieTitle):\n",
    "    driver.execute_query(\n",
    "        \"\"\"\n",
    "        MATCH (p:Person {name:$personName})\n",
    "        MATCH (m:Movie {title:$movieTitle})\n",
    "        MERGE (p)-[:ACTED_IN]->(m)\n",
    "        RETURN p,m\n",
    "        \"\"\",\n",
    "        personName=personName, movieTitle=movieTitle, database=\"neo4j\"\n",
    "    )\n",
    "    print(f\"Relación creada entre '{personName}' y '{movieTitle}'.\")\n",
    "\n",
    "# Crear relación entre Género y película\n",
    "def link_genre(driver, genreName, movieTitle):\n",
    "    driver.execute_query(\n",
    "        \"\"\"\n",
    "        MATCH (g:Genre {name:$genreName})\n",
    "        MATCH (m:Movie {title:$movieTitle})\n",
    "        MERGE (g)-[:IN_GENRE]->(m)\n",
    "        RETURN g,m\n",
    "        \"\"\",\n",
    "        genreName=genreName, movieTitle=movieTitle, database=\"neo4j\"\n",
    "    )\n",
    "    print(f\"Relación creada entre '{genreName}' y '{movieTitle}'.\")\n",
    "    \n"
   ]
  },
  {
   "cell_type": "code",
   "execution_count": 33,
   "metadata": {},
   "outputs": [
    {
     "name": "stdout",
     "output_type": "stream",
     "text": [
      "Película 'The Dark Knight' (ID: 103) creada.\n",
      "Persona 'Christopher Nolan' creada.\n",
      "Persona 'Christian Bale' creada.\n",
      "Género 'Action' creado.\n",
      "Persona 'Heath Ledger' creada.\n",
      "Relación creada entre 'Christopher Nolan' y 'The Dark Knight'.\n",
      "Relación creada entre 'Christian Bale' y 'The Dark Knight'.\n",
      "Relación creada entre 'Heath Ledger' y 'The Dark Knight'.\n",
      "Relación creada entre 'Heath Ledger' y 'The Dark Knight'.\n",
      "Relación creada entre 'Action' y 'The Dark Knight'.\n",
      "Usuario '1' ha calificado la película '103' con 5 estrellas.\n"
     ]
    },
    {
     "data": {
      "text/plain": [
       "EagerResult(records=[<Record u=<Node element_id='4:41c33069-6546-4412-a791-1b857f5a5a3d:6' labels=frozenset({'User'}) properties={'name': 'Alice', 'userId': 1}> r=<Relationship element_id='5:41c33069-6546-4412-a791-1b857f5a5a3d:1157425104234217478' nodes=(<Node element_id='4:41c33069-6546-4412-a791-1b857f5a5a3d:6' labels=frozenset({'User'}) properties={'name': 'Alice', 'userId': 1}>, <Node element_id='4:41c33069-6546-4412-a791-1b857f5a5a3d:12' labels=frozenset({'Movie'}) properties={'languages': ['English', 'Mandarin', 'Arabic'], 'year': 2008, 'imdbId': 'tt0468569', 'runtime': 152, 'movieId': 103, 'imdbRating': 9.0, 'countries': ['USA', 'UK'], 'title': 'The Dark Knight', 'imdbVotes': 2000000, 'url': 'https://www.imdb.com/title/tt0468569/', 'revenue': 1000000000, 'tmdbId': 155, 'plot': 'When the menace known as the Joker wreaks havoc and chaos on the people of Gotham, Batman must accept one of the greatest psychological and physical tests of his ability to fight injustice.', 'poster': 'https://m.media-amazon.com/images/I/81v90Jf4G-L._AC_SY679_.jpg', 'released': '2008-07-18', 'budget': 185000000}>) type='RATED' properties={'rating': 5, 'timestamp': 1739142950517}> m=<Node element_id='4:41c33069-6546-4412-a791-1b857f5a5a3d:12' labels=frozenset({'Movie'}) properties={'languages': ['English', 'Mandarin', 'Arabic'], 'year': 2008, 'imdbId': 'tt0468569', 'runtime': 152, 'movieId': 103, 'imdbRating': 9.0, 'countries': ['USA', 'UK'], 'title': 'The Dark Knight', 'imdbVotes': 2000000, 'url': 'https://www.imdb.com/title/tt0468569/', 'revenue': 1000000000, 'tmdbId': 155, 'plot': 'When the menace known as the Joker wreaks havoc and chaos on the people of Gotham, Batman must accept one of the greatest psychological and physical tests of his ability to fight injustice.', 'poster': 'https://m.media-amazon.com/images/I/81v90Jf4G-L._AC_SY679_.jpg', 'released': '2008-07-18', 'budget': 185000000}>>], summary=<neo4j._work.summary.ResultSummary object at 0x0000014E9AC715B0>, keys=['u', 'r', 'm'])"
      ]
     },
     "execution_count": 33,
     "metadata": {},
     "output_type": "execute_result"
    }
   ],
   "source": [
    "create_movie_more_params(driver, \"The Dark Knight\", 155, \"2008-07-18\", 9.0, 103, 2008, \"tt0468569\", 152, [\"USA\", \"UK\"], 2000000, \"https://www.imdb.com/title/tt0468569/\", 1000000000, \"When the menace known as the Joker wreaks havoc and chaos on the people of Gotham, Batman must accept one of the greatest psychological and physical tests of his ability to fight injustice.\", \"https://m.media-amazon.com/images/I/81v90Jf4G-L._AC_SY679_.jpg\", 185000000, [\"English\", \"Mandarin\", \"Arabic\"])\n",
    "\n",
    "create_person(driver, \"Director\", \"Christopher Nolan\", 525, \"1970-07-30\", \"2025-01-01\", \"London, England, UK\", \"https://www.imdb.com/name/nm0634240/?ref_=tt_ov_dr_1\", \"nm0634240\", \"Best known for his cerebral, often nonlinear storytelling, acclaimed writer-director Christopher Nolan was born on July 30, 1970 in London, England.\", \"https://www.imdb.com/name/nm0634240/mediaviewer/rm2047771392/?ref_=nm_ov_ph\")\n",
    "\n",
    "create_person(driver, \"Actor\", \"Christian Bale\", 3894, \"1974-01-30\", \"2025-01-01\", \"Haverfordwest, Pembrokeshire, Wales, UK\", \"https://www.imdb.com/name/nm0000288/?ref_=tt_ov_st_sm\", \"nm0000288\", \"Christian Charles Philip Bale was born in Pembrokeshire, Wales, UK on January 30, 1974, to English parents Jennifer Jenny (James) and David Bale.\", \"https://www.imdb.com/name/nm0000288/mediaviewer/rm3114052352/?ref_=nm_ov_ph\")\n",
    "\n",
    "create_genre(driver, \"Action\")\n",
    "\n",
    "create_person(driver, \"Actor:Director\", \"Heath Ledger\", 51329, \"1979-04-04\", \"2008-01-22\", \"Perth, Western Australia, Australia\", \"https://www.imdb.com/name/nm0005132/?ref_=tt_ov_st_sm\", \"nm0005132\", \"When hunky, twenty-year-old heart-throb Heath Ledger first came to the attention of the public in 1999, it was all too easy to tag him as a pretty.\", \"https://www.imdb.com/name/nm0005132/mediaviewer/rm3114052352/?ref_=nm_ov_ph\")\n",
    "\n",
    "link_director(driver, \"Christopher Nolan\", \"The Dark Knight\")\n",
    "\n",
    "link_actor(driver, \"Christian Bale\", \"The Dark Knight\")\n",
    "\n",
    "link_actor(driver, \"Heath Ledger\", \"The Dark Knight\")\n",
    "\n",
    "link_director(driver, \"Heath Ledger\", \"The Dark Knight\")\n",
    "\n",
    "link_genre(driver, \"Action\", \"The Dark Knight\")\n",
    "\n",
    "user_rates_movie(driver, 1, 103, 5, None)\n"
   ]
  },
  {
   "cell_type": "code",
   "execution_count": null,
   "metadata": {},
   "outputs": [],
   "source": []
  }
 ],
 "metadata": {
  "kernelspec": {
   "display_name": "Python 3",
   "language": "python",
   "name": "python3"
  },
  "language_info": {
   "codemirror_mode": {
    "name": "ipython",
    "version": 3
   },
   "file_extension": ".py",
   "mimetype": "text/x-python",
   "name": "python",
   "nbconvert_exporter": "python",
   "pygments_lexer": "ipython3",
   "version": "3.12.3"
  }
 },
 "nbformat": 4,
 "nbformat_minor": 2
}
